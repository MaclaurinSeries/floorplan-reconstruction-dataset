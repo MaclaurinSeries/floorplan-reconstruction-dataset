{
 "cells": [
  {
   "cell_type": "code",
   "execution_count": 4,
   "metadata": {},
   "outputs": [],
   "source": [
    "import os\n",
    "import numpy as np\n",
    "from sklearn.model_selection import train_test_split\n",
    "\n",
    "\n",
    "files = []\n",
    "for file in os.scandir('./__collection__/room-classification/graph'):\n",
    "    if file.is_file():\n",
    "        files.append(file.name.split('.')[0])\n",
    "files = np.array(files)\n",
    "\n",
    "N = files.shape[0]\n",
    "test_ratio, validation_ratio = 0.15, 0.15\n",
    "\n",
    "\n",
    "np.random.shuffle(files)\n",
    "\n",
    "data = {}\n",
    "split_1 = int(N * test_ratio)\n",
    "split_2 = split_1 + int(N * validation_ratio)\n",
    "data['test'] = files[0: split_1]\n",
    "data['validation'] = files[split_1: split_2]\n",
    "data['train'] = files[split_2:]\n",
    "\n",
    "\n",
    "for task in ['test', 'validation', 'train']:\n",
    "    with open(f'./__collection__/room-classification/{task}.txt', 'w') as f:\n",
    "        for idx,file in enumerate(data[task]):\n",
    "            if idx > 0:\n",
    "                f.write('\\n')\n",
    "            f.write(file)"
   ]
  },
  {
   "cell_type": "code",
   "execution_count": 67,
   "metadata": {},
   "outputs": [
    {
     "data": {
      "text/plain": [
       "array([0, 0, 0, 0, 0, 0, 0, 0, 0, 0])"
      ]
     },
     "execution_count": 67,
     "metadata": {},
     "output_type": "execute_result"
    }
   ],
   "source": [
    "from torch_geometric.data import data\n",
    "import torch\n",
    "\n",
    "root = '__collection__\\\\room-classification'\n",
    "\n",
    "with open(f'{root}\\\\validation.txt') as f:\n",
    "    files = f.read().split('\\n')\n",
    "\n",
    "filt_room = np.array([1,3,4,5,6,7,9,10,11,12])\n",
    "hist = np.zeros(10, dtype=np.int32)\n",
    "cnt = 0\n",
    "for file in files:\n",
    "    break\n",
    "    path = f'{root}\\\\graph\\\\{file}.pt'\n",
    "    graph = torch.load(path)\n",
    "    graph.x = graph.x[:,[i for i in range(20) if i != 9]]\n",
    "\n",
    "    torch.save(graph, path)\n",
    "\n",
    "hist"
   ]
  },
  {
   "cell_type": "code",
   "execution_count": 68,
   "metadata": {},
   "outputs": [
    {
     "data": {
      "text/plain": [
       "(0,\n",
       " array([3987, 2485,  569, 4556, 3826, 3302, 2566,  356, 4627, 2303,    0,\n",
       "           0,    0]))"
      ]
     },
     "execution_count": 68,
     "metadata": {},
     "output_type": "execute_result"
    }
   ],
   "source": [
    "from main.data.dataclass.RoomDataset import RoomDataset\n",
    "import numpy as np\n",
    "\n",
    "train_dataset = RoomDataset(root='__collection__\\\\room-classification', filenames='train.txt')\n",
    "cnt = 0\n",
    "for data in train_dataset:\n",
    "    if data.y.size()[0] > 0:\n",
    "        u, v = np.unique(data.y.argmax(-1).numpy(), return_counts=True)\n",
    "        hist[u] += v\n",
    "\n",
    "cnt,hist"
   ]
  },
  {
   "cell_type": "code",
   "execution_count": 6,
   "metadata": {},
   "outputs": [
    {
     "data": {
      "text/plain": [
       "array([[0., 0.],\n",
       "       [1., 1.]])"
      ]
     },
     "execution_count": 6,
     "metadata": {},
     "output_type": "execute_result"
    }
   ],
   "source": [
    "from shapely.geometry.linestring import LineString\n",
    "import numpy as np\n",
    "\n",
    "np.array(LineString([(0, 0), (1, 1)]).xy).T"
   ]
  },
  {
   "cell_type": "code",
   "execution_count": 1,
   "metadata": {},
   "outputs": [],
   "source": [
    "! conda list -e > requirements.txt"
   ]
  },
  {
   "cell_type": "code",
   "execution_count": 1,
   "metadata": {},
   "outputs": [
    {
     "name": "stdout",
     "output_type": "stream",
     "text": [
      "Collecting ultralytics\n",
      "  Using cached ultralytics-8.0.61-py3-none-any.whl (490 kB)\n",
      "Requirement already satisfied: torch>=1.7.0 in c:\\users\\christianbudhis\\miniconda3\\envs\\ta-env\\lib\\site-packages (from ultralytics) (1.12.1)\n",
      "Requirement already satisfied: psutil in c:\\users\\christianbudhis\\miniconda3\\envs\\ta-env\\lib\\site-packages (from ultralytics) (5.9.0)\n",
      "Requirement already satisfied: pandas>=1.1.4 in c:\\users\\christianbudhis\\miniconda3\\envs\\ta-env\\lib\\site-packages (from ultralytics) (1.4.3)\n",
      "Requirement already satisfied: scipy>=1.4.1 in c:\\users\\christianbudhis\\miniconda3\\envs\\ta-env\\lib\\site-packages (from ultralytics) (1.10.0)\n",
      "Requirement already satisfied: torchvision>=0.8.1 in c:\\users\\christianbudhis\\miniconda3\\envs\\ta-env\\lib\\site-packages (from ultralytics) (0.13.1)\n",
      "Collecting seaborn>=0.11.0\n",
      "  Using cached seaborn-0.12.2-py3-none-any.whl (293 kB)\n",
      "Requirement already satisfied: matplotlib>=3.2.2 in c:\\users\\christianbudhis\\miniconda3\\envs\\ta-env\\lib\\site-packages (from ultralytics) (3.5.2)\n",
      "Requirement already satisfied: numpy>=1.21.6 in c:\\users\\christianbudhis\\miniconda3\\envs\\ta-env\\lib\\site-packages (from ultralytics) (1.24.2)\n",
      "Requirement already satisfied: PyYAML>=5.3.1 in c:\\users\\christianbudhis\\miniconda3\\envs\\ta-env\\lib\\site-packages (from ultralytics) (6.0)\n",
      "Collecting opencv-python>=4.6.0\n",
      "  Using cached opencv_python-4.7.0.72-cp37-abi3-win_amd64.whl (38.2 MB)\n",
      "Requirement already satisfied: tqdm>=4.64.0 in c:\\users\\christianbudhis\\miniconda3\\envs\\ta-env\\lib\\site-packages (from ultralytics) (4.65.0)\n",
      "Requirement already satisfied: sentry-sdk in c:\\users\\christianbudhis\\miniconda3\\envs\\ta-env\\lib\\site-packages (from ultralytics) (1.9.0)\n",
      "Requirement already satisfied: requests>=2.23.0 in c:\\users\\christianbudhis\\miniconda3\\envs\\ta-env\\lib\\site-packages (from ultralytics) (2.28.1)\n",
      "Requirement already satisfied: Pillow>=7.1.2 in c:\\users\\christianbudhis\\miniconda3\\envs\\ta-env\\lib\\site-packages (from ultralytics) (9.2.0)\n",
      "Requirement already satisfied: thop>=0.1.1 in c:\\users\\christianbudhis\\miniconda3\\envs\\ta-env\\lib\\site-packages (from ultralytics) (0.1.1.post2209072238)\n",
      "Requirement already satisfied: kiwisolver>=1.0.1 in c:\\users\\christianbudhis\\miniconda3\\envs\\ta-env\\lib\\site-packages (from matplotlib>=3.2.2->ultralytics) (1.4.4)\n",
      "Requirement already satisfied: pyparsing>=2.2.1 in c:\\users\\christianbudhis\\miniconda3\\envs\\ta-env\\lib\\site-packages (from matplotlib>=3.2.2->ultralytics) (3.0.9)\n",
      "Requirement already satisfied: cycler>=0.10 in c:\\users\\christianbudhis\\miniconda3\\envs\\ta-env\\lib\\site-packages (from matplotlib>=3.2.2->ultralytics) (0.11.0)\n",
      "Requirement already satisfied: packaging>=20.0 in c:\\users\\christianbudhis\\miniconda3\\envs\\ta-env\\lib\\site-packages (from matplotlib>=3.2.2->ultralytics) (23.0)\n",
      "Requirement already satisfied: python-dateutil>=2.7 in c:\\users\\christianbudhis\\miniconda3\\envs\\ta-env\\lib\\site-packages (from matplotlib>=3.2.2->ultralytics) (2.8.2)\n",
      "Requirement already satisfied: fonttools>=4.22.0 in c:\\users\\christianbudhis\\miniconda3\\envs\\ta-env\\lib\\site-packages (from matplotlib>=3.2.2->ultralytics) (4.25.0)\n",
      "Requirement already satisfied: pytz>=2020.1 in c:\\users\\christianbudhis\\miniconda3\\envs\\ta-env\\lib\\site-packages (from pandas>=1.1.4->ultralytics) (2022.7)\n",
      "Requirement already satisfied: charset-normalizer<3,>=2 in c:\\users\\christianbudhis\\miniconda3\\envs\\ta-env\\lib\\site-packages (from requests>=2.23.0->ultralytics) (2.1.1)\n",
      "Requirement already satisfied: urllib3<1.27,>=1.21.1 in c:\\users\\christianbudhis\\miniconda3\\envs\\ta-env\\lib\\site-packages (from requests>=2.23.0->ultralytics) (1.26.15)\n",
      "Requirement already satisfied: idna<4,>=2.5 in c:\\users\\christianbudhis\\miniconda3\\envs\\ta-env\\lib\\site-packages (from requests>=2.23.0->ultralytics) (3.4)\n",
      "Requirement already satisfied: certifi>=2017.4.17 in c:\\users\\christianbudhis\\miniconda3\\envs\\ta-env\\lib\\site-packages (from requests>=2.23.0->ultralytics) (2022.12.7)\n",
      "Requirement already satisfied: typing_extensions in c:\\users\\christianbudhis\\miniconda3\\envs\\ta-env\\lib\\site-packages (from torch>=1.7.0->ultralytics) (4.4.0)\n",
      "Requirement already satisfied: colorama in c:\\users\\christianbudhis\\miniconda3\\envs\\ta-env\\lib\\site-packages (from tqdm>=4.64.0->ultralytics) (0.4.6)\n",
      "Requirement already satisfied: six>=1.5 in c:\\users\\christianbudhis\\miniconda3\\envs\\ta-env\\lib\\site-packages (from python-dateutil>=2.7->matplotlib>=3.2.2->ultralytics) (1.16.0)\n",
      "Installing collected packages: opencv-python, seaborn, ultralytics\n",
      "  Attempting uninstall: opencv-python\n",
      "    Found existing installation: opencv-python 4.5.5\n"
     ]
    },
    {
     "name": "stderr",
     "output_type": "stream",
     "text": [
      "ERROR: Cannot uninstall opencv-python 4.5.5, RECORD file not found. Hint: The package was installed by conda.\n"
     ]
    }
   ],
   "source": [
    "! pip install ultralytics"
   ]
  },
  {
   "cell_type": "code",
   "execution_count": null,
   "metadata": {},
   "outputs": [],
   "source": [
    "! python main/trainer.py --epochs=10 --trials=1 --architecture=graph-sage"
   ]
  },
  {
   "cell_type": "code",
   "execution_count": 1,
   "metadata": {},
   "outputs": [
    {
     "data": {
      "text/plain": [
       "'1.12.1'"
      ]
     },
     "execution_count": 1,
     "metadata": {},
     "output_type": "execute_result"
    }
   ],
   "source": [
    "import torch\n",
    "torch.__version__"
   ]
  },
  {
   "cell_type": "code",
   "execution_count": 9,
   "metadata": {},
   "outputs": [
    {
     "data": {
      "text/plain": [
       "tensor([[ 0.3340, -0.0961, -1.3326,  0.1321, -0.4851],\n",
       "        [ 0.0685,  0.4007, -0.1671, -1.2219, -0.8060],\n",
       "        [ 0.8905,  0.1483,  1.0729, -0.1680, -0.9641]], requires_grad=True)"
      ]
     },
     "metadata": {},
     "output_type": "display_data"
    },
    {
     "data": {
      "text/plain": [
       "tensor([[0.0599, 0.3273, 0.2355, 0.2141, 0.1632],\n",
       "        [0.0643, 0.1398, 0.1598, 0.5299, 0.1061],\n",
       "        [0.2782, 0.2841, 0.0650, 0.1671, 0.2056]])"
      ]
     },
     "metadata": {},
     "output_type": "display_data"
    }
   ],
   "source": [
    "import torch.nn.functional as F\n",
    "\n",
    "input = torch.randn(3, 5, requires_grad=True)\n",
    "target = torch.randn(3, 5).softmax(dim=-1)\n",
    "loss = F.cross_entropy(input, target)\n",
    "\n",
    "display(input, target)"
   ]
  },
  {
   "cell_type": "code",
   "execution_count": null,
   "metadata": {},
   "outputs": [],
   "source": [
    "import torch\n",
    "torch.load"
   ]
  }
 ],
 "metadata": {
  "kernelspec": {
   "display_name": "Python 3.10.4 ('ta-env')",
   "language": "python",
   "name": "python3"
  },
  "language_info": {
   "codemirror_mode": {
    "name": "ipython",
    "version": 3
   },
   "file_extension": ".py",
   "mimetype": "text/x-python",
   "name": "python",
   "nbconvert_exporter": "python",
   "pygments_lexer": "ipython3",
   "version": "3.10.6"
  },
  "orig_nbformat": 4,
  "vscode": {
   "interpreter": {
    "hash": "6977dbf36bcfae3fb6c882637efae515150e5d4f4734250e0512dd56e23f3f69"
   }
  }
 },
 "nbformat": 4,
 "nbformat_minor": 2
}
