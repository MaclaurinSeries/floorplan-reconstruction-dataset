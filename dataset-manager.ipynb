{
 "cells": [
  {
   "cell_type": "code",
   "execution_count": 1,
   "id": "6371ccdc",
   "metadata": {},
   "outputs": [],
   "source": [
    "%load_ext autoreload\n",
    "%autoreload 2"
   ]
  },
  {
   "cell_type": "code",
   "execution_count": 2,
   "id": "d47685ad",
   "metadata": {},
   "outputs": [],
   "source": [
    "import matplotlib.pyplot as plt\n",
    "import matplotlib.image as mpimg\n",
    "\n",
    "from IPython.display import Image\n",
    "from IPython.core.display import HTML"
   ]
  },
  {
   "cell_type": "code",
   "execution_count": 3,
   "id": "2e050356",
   "metadata": {},
   "outputs": [],
   "source": [
    "%%bash\n",
    "\n",
    "rm -r ./__collection__/* || true"
   ]
  },
  {
   "cell_type": "code",
   "execution_count": 13,
   "id": "33675bbe",
   "metadata": {
    "scrolled": true
   },
   "outputs": [
    {
     "name": "stdout",
     "output_type": "stream",
     "text": [
      "1 POLYGON ((1397.880004882812 508.7200012207031, 1397.880004882812 386.6300048828125, 1336.93994140625 386.6300048828125, 1336.93994140625 508.7200012207031, 1397.880004882812 508.7200012207031))\n",
      "11 POLYGON ((1300.77001953125 1287.5400390625, 1300.77001953125 930.0800170898438, 937.5900268554688 930.0800170898438, 937.5900268554688 1287.5400390625, 1300.77001953125 1287.5400390625))\n",
      "11 POLYGON ((1294.81005859375 1470.630004882812, 1294.81005859375 1298.5400390625, 1158.349975585938 1298.5400390625, 1158.349975585938 1470.630004882812, 1294.81005859375 1470.630004882812))\n",
      "11 POLYGON ((1300.77001953125 1287.5400390625, 1300.77001953125 930.0800170898438, 937.5900268554688 930.0800170898438, 937.5900268554688 1287.5400390625, 1300.77001953125 1287.5400390625))\n",
      "x\n",
      "tensor([[0., 0., 0., 0., 0., 0., 0., 0., 0., 0., 0., 0., 0., 0., 0.],\n",
      "        [0., 0., 0., 0., 0., 0., 0., 0., 1., 1., 0., 0., 0., 0., 0.],\n",
      "        [0., 0., 0., 0., 0., 0., 0., 0., 0., 0., 0., 0., 0., 0., 0.],\n",
      "        [0., 0., 0., 0., 0., 0., 0., 0., 0., 0., 0., 0., 0., 0., 1.],\n",
      "        [0., 0., 0., 0., 0., 0., 0., 0., 0., 0., 0., 0., 0., 0., 0.],\n",
      "        [0., 0., 0., 0., 0., 0., 1., 1., 0., 1., 0., 0., 0., 0., 0.],\n",
      "        [0., 0., 0., 0., 0., 0., 0., 0., 0., 0., 0., 1., 0., 0., 0.],\n",
      "        [0., 0., 0., 0., 0., 0., 0., 0., 0., 0., 0., 0., 0., 0., 0.],\n",
      "        [0., 0., 0., 0., 0., 0., 1., 0., 0., 0., 0., 0., 0., 0., 1.]])\n",
      "edge_index\n",
      "tensor([[0, 1, 2, 3, 3, 4, 4, 5, 6, 6, 6, 7, 7, 8, 8, 8],\n",
      "        [6, 8, 3, 2, 4, 3, 8, 7, 0, 7, 8, 5, 6, 1, 4, 6]])\n",
      "edge_attr\n",
      "tensor([[0., 1.],\n",
      "        [0., 1.],\n",
      "        [0., 1.],\n",
      "        [0., 1.],\n",
      "        [1., 0.],\n",
      "        [1., 0.],\n",
      "        [0., 1.],\n",
      "        [1., 0.],\n",
      "        [0., 1.],\n",
      "        [1., 0.],\n",
      "        [1., 0.],\n",
      "        [1., 0.],\n",
      "        [1., 0.],\n",
      "        [0., 1.],\n",
      "        [0., 1.],\n",
      "        [1., 0.]])\n",
      "y\n",
      "tensor([[0., 1., 0., 0., 0., 0., 0., 0., 0., 0., 0., 0., 0.],\n",
      "        [0., 0., 0., 0., 0., 0., 1., 0., 0., 0., 0., 0., 0.],\n",
      "        [0., 0., 0., 0., 0., 0., 0., 0., 0., 1., 0., 0., 0.],\n",
      "        [0., 0., 0., 0., 0., 0., 0., 0., 0., 0., 1., 0., 0.],\n",
      "        [0., 1., 0., 0., 0., 0., 0., 0., 0., 0., 0., 0., 0.],\n",
      "        [0., 0., 0., 1., 0., 0., 0., 0., 0., 0., 0., 0., 0.],\n",
      "        [0., 0., 0., 0., 0., 0., 0., 0., 0., 0., 0., 0., 1.],\n",
      "        [0., 0., 0., 0., 1., 0., 0., 0., 0., 0., 0., 0., 0.],\n",
      "        [0., 0., 0., 0., 0., 0., 0., 1., 0., 0., 0., 0., 0.]])\n",
      "x\n",
      "tensor([[0., 0., 0., 0., 0., 0., 0., 0., 0., 0., 0., 0., 0., 0., 0.],\n",
      "        [0., 0., 0., 0., 0., 0., 0., 1., 0., 0., 1., 0., 0., 0., 0.],\n",
      "        [0., 0., 0., 0., 0., 0., 0., 0., 0., 0., 0., 0., 0., 0., 1.],\n",
      "        [0., 0., 0., 0., 0., 0., 1., 0., 0., 0., 0., 0., 0., 0., 0.],\n",
      "        [0., 0., 0., 0., 0., 0., 0., 0., 0., 1., 0., 0., 0., 0., 0.],\n",
      "        [0., 0., 0., 0., 0., 0., 1., 1., 1., 0., 0., 0., 0., 0., 0.],\n",
      "        [0., 0., 0., 0., 0., 0., 1., 0., 0., 0., 0., 0., 0., 0., 0.],\n",
      "        [0., 0., 0., 0., 0., 0., 0., 0., 0., 0., 0., 0., 0., 0., 0.]])\n",
      "edge_index\n",
      "tensor([[0, 1, 2, 2, 2, 3, 4, 4, 5, 5, 6, 7, 7, 7],\n",
      "        [7, 4, 3, 5, 7, 2, 1, 5, 2, 4, 7, 0, 2, 6]])\n",
      "edge_attr\n",
      "tensor([[0., 1.],\n",
      "        [0., 1.],\n",
      "        [0., 1.],\n",
      "        [0., 1.],\n",
      "        [0., 1.],\n",
      "        [0., 1.],\n",
      "        [0., 1.],\n",
      "        [1., 0.],\n",
      "        [0., 1.],\n",
      "        [1., 0.],\n",
      "        [0., 1.],\n",
      "        [0., 1.],\n",
      "        [0., 1.],\n",
      "        [0., 1.]])\n",
      "y\n",
      "tensor([[0., 1., 0., 0., 0., 0., 0., 0., 0., 0., 0., 0., 0.],\n",
      "        [0., 0., 0., 0., 0., 0., 0., 0., 0., 0., 0., 1., 0.],\n",
      "        [0., 0., 0., 0., 0., 0., 0., 1., 0., 0., 0., 0., 0.],\n",
      "        [0., 0., 0., 0., 0., 0., 0., 0., 0., 0., 0., 1., 0.],\n",
      "        [0., 0., 0., 0., 0., 0., 1., 0., 0., 0., 0., 0., 0.],\n",
      "        [0., 0., 0., 0., 0., 0., 0., 0., 0., 0., 0., 1., 0.],\n",
      "        [0., 0., 0., 0., 0., 0., 0., 0., 0., 1., 0., 0., 0.],\n",
      "        [0., 0., 0., 0., 0., 1., 0., 0., 0., 0., 0., 0., 0.]])\n"
     ]
    },
    {
     "name": "stderr",
     "output_type": "stream",
     "text": [
      "e:\\DATA\\CHRISTIAN\\KULIAH\\TA\\code\\dataset\\main\\data\\generator\\FloorPlanSVG.py:184: ShapelyDeprecationWarning: The array interface is deprecated and will no longer work in Shapely 2.0. Convert the '.coords' to a numpy array instead.\n",
      "  center = ShapeCentroid(furniture['bound'])\n"
     ]
    }
   ],
   "source": [
    "! python main/data/generator/Executor.py -i . -o ./__collection__"
   ]
  },
  {
   "cell_type": "code",
   "execution_count": null,
   "id": "53bc2cac",
   "metadata": {},
   "outputs": [],
   "source": []
  },
  {
   "cell_type": "code",
   "execution_count": 61,
   "id": "49ebae75",
   "metadata": {},
   "outputs": [
    {
     "data": {
      "text/plain": [
       "array([[0, 1, 2],\n",
       "       [3, 4, 5],\n",
       "       [6, 7, 8]])"
      ]
     },
     "metadata": {},
     "output_type": "display_data"
    },
    {
     "data": {
      "text/plain": [
       "array([[8, 6, 7],\n",
       "       [2, 0, 1],\n",
       "       [5, 3, 4]])"
      ]
     },
     "metadata": {},
     "output_type": "display_data"
    }
   ],
   "source": [
    "import numpy as np\n",
    "\n",
    "x = np.arange(9)\n",
    "x2 = np.reshape(x, (3, 3))\n",
    "display(x2, np.roll(x2, (1,1), axis=(1,0)))"
   ]
  },
  {
   "cell_type": "code",
   "execution_count": 62,
   "id": "7120b74e",
   "metadata": {},
   "outputs": [
    {
     "data": {
      "text/plain": [
       "array([[1., 0., 0., 0.],\n",
       "       [0., 1., 0., 0.],\n",
       "       [0., 0., 1., 0.],\n",
       "       [0., 0., 0., 1.]])"
      ]
     },
     "execution_count": 62,
     "metadata": {},
     "output_type": "execute_result"
    }
   ],
   "source": [
    "np.eye(4)"
   ]
  },
  {
   "cell_type": "code",
   "execution_count": 15,
   "id": "b56bcb2f",
   "metadata": {},
   "outputs": [
    {
     "ename": "ValueError",
     "evalue": "invalid literal for int() with base 10: ''",
     "output_type": "error",
     "traceback": [
      "\u001b[1;31m---------------------------------------------------------------------------\u001b[0m",
      "\u001b[1;31mValueError\u001b[0m                                Traceback (most recent call last)",
      "\u001b[1;32me:\\DATA\\CHRISTIAN\\KULIAH\\TA\\code\\dataset\\dataset-manager.ipynb Cell 5\u001b[0m in \u001b[0;36m<cell line: 35>\u001b[1;34m()\u001b[0m\n\u001b[0;32m     <a href='vscode-notebook-cell:/e%3A/DATA/CHRISTIAN/KULIAH/TA/code/dataset/dataset-manager.ipynb#W4sZmlsZQ%3D%3D?line=26'>27</a>\u001b[0m             plt\u001b[39m.\u001b[39mimshow(img[:,:,::\u001b[39m-\u001b[39m\u001b[39m1\u001b[39m])\n\u001b[0;32m     <a href='vscode-notebook-cell:/e%3A/DATA/CHRISTIAN/KULIAH/TA/code/dataset/dataset-manager.ipynb#W4sZmlsZQ%3D%3D?line=28'>29</a>\u001b[0m options \u001b[39m=\u001b[39m [\n\u001b[0;32m     <a href='vscode-notebook-cell:/e%3A/DATA/CHRISTIAN/KULIAH/TA/code/dataset/dataset-manager.ipynb#W4sZmlsZQ%3D%3D?line=29'>30</a>\u001b[0m     (\u001b[39m'\u001b[39m\u001b[39mboundary-segmentation\u001b[39m\u001b[39m'\u001b[39m, Mapper\u001b[39m.\u001b[39mgetBoundaryName),\n\u001b[0;32m     <a href='vscode-notebook-cell:/e%3A/DATA/CHRISTIAN/KULIAH/TA/code/dataset/dataset-manager.ipynb#W4sZmlsZQ%3D%3D?line=30'>31</a>\u001b[0m     (\u001b[39m'\u001b[39m\u001b[39msymbol-detection\u001b[39m\u001b[39m'\u001b[39m, Mapper\u001b[39m.\u001b[39mgetRoomName),\n\u001b[0;32m     <a href='vscode-notebook-cell:/e%3A/DATA/CHRISTIAN/KULIAH/TA/code/dataset/dataset-manager.ipynb#W4sZmlsZQ%3D%3D?line=31'>32</a>\u001b[0m     (\u001b[39m'\u001b[39m\u001b[39mroi-detection\u001b[39m\u001b[39m'\u001b[39m, \u001b[39mNone\u001b[39;00m)\n\u001b[0;32m     <a href='vscode-notebook-cell:/e%3A/DATA/CHRISTIAN/KULIAH/TA/code/dataset/dataset-manager.ipynb#W4sZmlsZQ%3D%3D?line=32'>33</a>\u001b[0m ]\n\u001b[1;32m---> <a href='vscode-notebook-cell:/e%3A/DATA/CHRISTIAN/KULIAH/TA/code/dataset/dataset-manager.ipynb#W4sZmlsZQ%3D%3D?line=34'>35</a>\u001b[0m it \u001b[39m=\u001b[39m \u001b[39mint\u001b[39;49m(\u001b[39minput\u001b[39;49m())\n\u001b[0;32m     <a href='vscode-notebook-cell:/e%3A/DATA/CHRISTIAN/KULIAH/TA/code/dataset/dataset-manager.ipynb#W4sZmlsZQ%3D%3D?line=35'>36</a>\u001b[0m viewPoly(options[it][\u001b[39m0\u001b[39m], options[it][\u001b[39m1\u001b[39m])\n",
      "\u001b[1;31mValueError\u001b[0m: invalid literal for int() with base 10: ''"
     ]
    }
   ],
   "source": [
    "import os, cv2\n",
    "import matplotlib.pyplot as plt\n",
    "import numpy as np\n",
    "import src.HouseConfig as Mapper\n",
    "\n",
    "def viewPoly(task, mapper, pick=3):\n",
    "    for filename in os.scandir(f'./__collection__/{task}/image'):\n",
    "        if filename.is_file():\n",
    "            [ID, folder, type, ext] = filename.name.split('.')\n",
    "\n",
    "            with open(f'./__collection__/{task}/label/{ID}.label.{type}.txt') as f:\n",
    "                lines = f.read().split('\\n')\n",
    "            \n",
    "            img = cv2.imread(f'./__collection__/{task}/image/{filename.name}')\n",
    "            shape = 416\n",
    "            \n",
    "            pts = []\n",
    "            for line in lines:\n",
    "                poly = np.round(np.array(list(map(float, line.split(' ')))) * 416).astype(int)\n",
    "                pts.append(np.array([np.clip(poly[2::2], 0,415), np.clip(poly[1::2], 0,415)]).T.reshape((-1, 1, 2)))\n",
    "                if mapper is not None:\n",
    "                    cv2.putText(img, mapper(int(poly[0] // 416)), (poly[4], poly[3]), cv2.FONT_HERSHEY_SIMPLEX, 0.5, (0, 0, 255), 1, cv2.LINE_AA)\n",
    "\n",
    "            img = cv2.polylines(img, pts, True, (255, 0, 0), 2)\n",
    "\n",
    "            plt.figure(figsize=(12,12))\n",
    "            plt.imshow(img[:,:,::-1])\n",
    "\n",
    "options = [\n",
    "    ('boundary-segmentation', Mapper.getBoundaryName),\n",
    "    ('symbol-detection', Mapper.getRoomName),\n",
    "    ('roi-detection', None)\n",
    "]\n",
    "\n",
    "it = int(input())\n",
    "viewPoly(options[it][0], options[it][1])"
   ]
  }
 ],
 "metadata": {
  "kernelspec": {
   "display_name": "Python 3.10.4 ('ta-env')",
   "language": "python",
   "name": "python3"
  },
  "language_info": {
   "codemirror_mode": {
    "name": "ipython",
    "version": 3
   },
   "file_extension": ".py",
   "mimetype": "text/x-python",
   "name": "python",
   "nbconvert_exporter": "python",
   "pygments_lexer": "ipython3",
   "version": "3.10.4"
  },
  "vscode": {
   "interpreter": {
    "hash": "6977dbf36bcfae3fb6c882637efae515150e5d4f4734250e0512dd56e23f3f69"
   }
  }
 },
 "nbformat": 4,
 "nbformat_minor": 5
}
