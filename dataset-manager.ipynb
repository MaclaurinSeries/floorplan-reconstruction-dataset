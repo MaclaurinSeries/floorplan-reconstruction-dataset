{
 "cells": [
  {
   "cell_type": "code",
   "execution_count": 1,
   "id": "6371ccdc",
   "metadata": {},
   "outputs": [],
   "source": [
    "%load_ext autoreload\n",
    "%autoreload 2"
   ]
  },
  {
   "cell_type": "code",
   "execution_count": 2,
   "id": "d47685ad",
   "metadata": {},
   "outputs": [],
   "source": [
    "import matplotlib.pyplot as plt\n",
    "import matplotlib.image as mpimg\n",
    "\n",
    "from IPython.display import Image\n",
    "from IPython.core.display import HTML"
   ]
  },
  {
   "cell_type": "code",
   "execution_count": 170,
   "id": "2e050356",
   "metadata": {},
   "outputs": [],
   "source": [
    "%%bash\n",
    "\n",
    "rm -r ./__collection__/*"
   ]
  },
  {
   "cell_type": "code",
   "execution_count": 171,
   "id": "33675bbe",
   "metadata": {
    "scrolled": true
   },
   "outputs": [
    {
     "name": "stdout",
     "output_type": "stream",
     "text": [
      "(981, 365, 3) (416, 154) (0, 131)\n",
      "(623, 317, 3) (416, 211) (0, 103)\n"
     ]
    }
   ],
   "source": [
    "! python src/Generator.py -i . -o ./__collection__"
   ]
  },
  {
   "cell_type": "code",
   "execution_count": null,
   "id": "b56bcb2f",
   "metadata": {},
   "outputs": [],
   "source": [
    "import os, cv2\n",
    "import matplotlib.pyplot as plt\n",
    "import numpy as np\n",
    "import src.HouseConfig as Mapper\n",
    "\n",
    "def viewPoly(task):\n",
    "    for filename in os.scandir(f'./__collection__/{task}/image'):\n",
    "        if filename.is_file():\n",
    "            [ID, folder, type, ext] = filename.name.split('.')\n",
    "\n",
    "            with open(f'./__collection__/{task}/label/{ID}.label.{type}.txt') as f:\n",
    "                lines = f.read().split('\\n')\n",
    "            \n",
    "            img = cv2.imread(f'./__collection__/{task}/image/{filename.name}')\n",
    "            shape = 416\n",
    "            \n",
    "            pts = []\n",
    "            for line in lines:\n",
    "                poly = np.round(np.array(list(map(float, line.split(' ')))) * 416).astype(int)\n",
    "                pts.append(np.array([np.clip(poly[2::2], 0,415), np.clip(poly[1::2], 0,415)]).T.reshape((-1, 1, 2)))\n",
    "                cv2.putText(img, Mapper.getIconName(int(poly[0] // 416)), (poly[4], poly[3]), cv2.FONT_HERSHEY_SIMPLEX, 0.5, (0, 0, 255), 1, cv2.LINE_AA)\n",
    "\n",
    "            img = cv2.polylines(img, pts, True, (255, 0, 0), 2)\n",
    "\n",
    "            plt.figure(figsize=(12,12))\n",
    "            plt.imshow(img[:,:,::-1])\n",
    "\n",
    "\n",
    "viewPoly('symbol-detection')"
   ]
  }
 ],
 "metadata": {
  "kernelspec": {
   "display_name": "Python 3.10.4 ('ta-env')",
   "language": "python",
   "name": "python3"
  },
  "language_info": {
   "codemirror_mode": {
    "name": "ipython",
    "version": 3
   },
   "file_extension": ".py",
   "mimetype": "text/x-python",
   "name": "python",
   "nbconvert_exporter": "python",
   "pygments_lexer": "ipython3",
   "version": "3.10.4"
  },
  "vscode": {
   "interpreter": {
    "hash": "6977dbf36bcfae3fb6c882637efae515150e5d4f4734250e0512dd56e23f3f69"
   }
  }
 },
 "nbformat": 4,
 "nbformat_minor": 5
}
